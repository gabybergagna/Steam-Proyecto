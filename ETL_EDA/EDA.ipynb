{
 "cells": [
  {
   "cell_type": "markdown",
   "metadata": {},
   "source": [
    "<h1>Análisis Exploratorio de Datos(EDA) para STEAM</h1>"
   ]
  },
  {
   "cell_type": "code",
   "execution_count": 3,
   "metadata": {},
   "outputs": [],
   "source": [
    "# importar bibliotecas:\n",
    "import pandas as pd\n",
    "import numpy as np\n",
    "import re\n",
    "from textblob import TextBlob\n",
    "import matplotlib.pyplot as plt\n",
    "import seaborn as sns\n",
    "sns.set()"
   ]
  },
  {
   "cell_type": "markdown",
   "metadata": {},
   "source": [
    "  \n",
    "  <p>\n",
    "    Iniciaremos nuestra investigación con un análisis exploratorio de datos (EDA) sobre los conjuntos de datos relacionados con la empresa STEAM. \n",
    "    EDA es un paso esencial en nuestro proceso, ya que nos permitirá comprender en profundidad la naturaleza de los datos y allanar el camino para la posterior implementación de nuestros modelos de machine learning.\n",
    "  </p>\n",
    "  <p>\n",
    "    Durante esta fase inicial, exploraremos detenidamente los datos, identificaremos tendencias, patrones y relaciones entre las variables. Esto nos brindará una visión integral de la información contenida en los conjuntos de datos de STEAM, lo que resultará fundamental para tomar decisiones informadas en las etapas posteriores de nuestro proyecto.\n",
    "  </p>\n",
    "  <p>\n",
    "    Nuestro objetivo principal en esta etapa del proceso es comprender los datos en su totalidad, lo que nos permitirá abordar eficazmente el modelado de machine learning y desarrollar estrategias de recomendación de juegos altamente efectivas. A medida que avanzamos en el EDA, estaremos listos para realizar un modelado más preciso y construir un sistema de recomendación sólido para los usuarios de STEAM.\n",
    "  </p>\n"
   ]
  },
  {
   "cell_type": "code",
   "execution_count": 4,
   "metadata": {},
   "outputs": [],
   "source": [
    "import pandas as pd\n",
    "# Leemos el Dataset que venimos trabajando en (ETL) ya modificado.\n",
    "df_review= pd.read_csv('..\\\\Datos_csv\\\\aus_reviews_EDA.csv')"
   ]
  },
  {
   "cell_type": "code",
   "execution_count": 5,
   "metadata": {},
   "outputs": [
    {
     "data": {
      "text/html": [
       "<div>\n",
       "<style scoped>\n",
       "    .dataframe tbody tr th:only-of-type {\n",
       "        vertical-align: middle;\n",
       "    }\n",
       "\n",
       "    .dataframe tbody tr th {\n",
       "        vertical-align: top;\n",
       "    }\n",
       "\n",
       "    .dataframe thead th {\n",
       "        text-align: right;\n",
       "    }\n",
       "</style>\n",
       "<table border=\"1\" class=\"dataframe\">\n",
       "  <thead>\n",
       "    <tr style=\"text-align: right;\">\n",
       "      <th></th>\n",
       "      <th>user_id</th>\n",
       "      <th>funny</th>\n",
       "      <th>item_id</th>\n",
       "      <th>helpful</th>\n",
       "      <th>recommend</th>\n",
       "      <th>review</th>\n",
       "    </tr>\n",
       "  </thead>\n",
       "  <tbody>\n",
       "    <tr>\n",
       "      <th>0</th>\n",
       "      <td>Wackky</td>\n",
       "      <td>1 person found this review funny</td>\n",
       "      <td>550</td>\n",
       "      <td>1 of 1 people (100%) found this review helpful</td>\n",
       "      <td>True</td>\n",
       "      <td>This game is fantastic if you are looking to D...</td>\n",
       "    </tr>\n",
       "    <tr>\n",
       "      <th>1</th>\n",
       "      <td>kevinator23</td>\n",
       "      <td>1 person found this review funny</td>\n",
       "      <td>218620</td>\n",
       "      <td>2 of 5 people (40%) found this review helpful</td>\n",
       "      <td>True</td>\n",
       "      <td>PayDay  on the difficulty scale Normal  lolwut...</td>\n",
       "    </tr>\n",
       "    <tr>\n",
       "      <th>2</th>\n",
       "      <td>Lord_Exploit</td>\n",
       "      <td>1 person found this review funny</td>\n",
       "      <td>311560</td>\n",
       "      <td>6 of 10 people (60%) found this review helpful</td>\n",
       "      <td>True</td>\n",
       "      <td>So after  odd hours i thought id write a reaso...</td>\n",
       "    </tr>\n",
       "    <tr>\n",
       "      <th>3</th>\n",
       "      <td>76561198141443390</td>\n",
       "      <td>3 people found this review funny</td>\n",
       "      <td>730</td>\n",
       "      <td>3 of 4 people (75%) found this review helpful</td>\n",
       "      <td>True</td>\n",
       "      <td>Game is very fun and very enjoyable</td>\n",
       "    </tr>\n",
       "    <tr>\n",
       "      <th>4</th>\n",
       "      <td>2768820078</td>\n",
       "      <td>2 people found this review funny</td>\n",
       "      <td>310950</td>\n",
       "      <td>2 of 3 people (67%) found this review helpful</td>\n",
       "      <td>True</td>\n",
       "      <td>lphappy</td>\n",
       "    </tr>\n",
       "  </tbody>\n",
       "</table>\n",
       "</div>"
      ],
      "text/plain": [
       "             user_id                             funny  item_id  \\\n",
       "0             Wackky  1 person found this review funny      550   \n",
       "1        kevinator23  1 person found this review funny   218620   \n",
       "2       Lord_Exploit  1 person found this review funny   311560   \n",
       "3  76561198141443390  3 people found this review funny      730   \n",
       "4         2768820078  2 people found this review funny   310950   \n",
       "\n",
       "                                          helpful  recommend  \\\n",
       "0  1 of 1 people (100%) found this review helpful       True   \n",
       "1   2 of 5 people (40%) found this review helpful       True   \n",
       "2  6 of 10 people (60%) found this review helpful       True   \n",
       "3   3 of 4 people (75%) found this review helpful       True   \n",
       "4   2 of 3 people (67%) found this review helpful       True   \n",
       "\n",
       "                                              review  \n",
       "0  This game is fantastic if you are looking to D...  \n",
       "1  PayDay  on the difficulty scale Normal  lolwut...  \n",
       "2  So after  odd hours i thought id write a reaso...  \n",
       "3               Game is very fun and very enjoyable   \n",
       "4                                            lphappy  "
      ]
     },
     "execution_count": 5,
     "metadata": {},
     "output_type": "execute_result"
    }
   ],
   "source": [
    "df_review.head()"
   ]
  },
  {
   "cell_type": "code",
   "execution_count": 6,
   "metadata": {},
   "outputs": [
    {
     "name": "stdout",
     "output_type": "stream",
     "text": [
      "<class 'pandas.core.frame.DataFrame'>\n",
      "RangeIndex: 1160 entries, 0 to 1159\n",
      "Data columns (total 6 columns):\n",
      " #   Column     Non-Null Count  Dtype \n",
      "---  ------     --------------  ----- \n",
      " 0   user_id    1160 non-null   object\n",
      " 1   funny      1160 non-null   object\n",
      " 2   item_id    1160 non-null   int64 \n",
      " 3   helpful    1160 non-null   object\n",
      " 4   recommend  1160 non-null   bool  \n",
      " 5   review     1152 non-null   object\n",
      "dtypes: bool(1), int64(1), object(4)\n",
      "memory usage: 46.6+ KB\n"
     ]
    }
   ],
   "source": [
    "df_review.info()"
   ]
  },
  {
   "cell_type": "code",
   "execution_count": 7,
   "metadata": {},
   "outputs": [
    {
     "name": "stdout",
     "output_type": "stream",
     "text": [
      "Shape: (1160, 6)\n",
      "\n",
      "Datos faltantes:\n",
      "user_id: 0 valores nulos\n",
      "funny: 0 valores nulos\n",
      "item_id: 0 valores nulos\n",
      "helpful: 0 valores nulos\n",
      "recommend: 0 valores nulos\n",
      "review: 8 valores nulos\n"
     ]
    }
   ],
   "source": [
    "# La siguiente función inspecciona los datos e identifica  valores nulos en todas las columnas.\n",
    "\n",
    "def data_inspeccion(variables):\n",
    "    print(f'Shape: {variables.shape}')\n",
    "    print(f'\\nDatos faltantes:')\n",
    "    for columna in variables.columns:\n",
    "        cantidad_nulos = variables[columna].isnull().sum()\n",
    "        print(f'{columna}: {cantidad_nulos} valores nulos')\n",
    "\n",
    "data_inspeccion(df_review)\n"
   ]
  },
  {
   "cell_type": "code",
   "execution_count": 8,
   "metadata": {},
   "outputs": [
    {
     "name": "stdout",
     "output_type": "stream",
     "text": [
      "383     NaN\n",
      "527     NaN\n",
      "579     NaN\n",
      "590     NaN\n",
      "633     NaN\n",
      "842     NaN\n",
      "1105    NaN\n",
      "1110    NaN\n",
      "Name: review, dtype: object\n"
     ]
    }
   ],
   "source": [
    "# Voy a visualizar solo la columna \"review\" con valores nulos para conocer que tipo de datos son.\n",
    "columna_review_nulos = df_review.loc[df_review['review'].isnull(), 'review']\n",
    "\n",
    "print(columna_review_nulos)\n"
   ]
  },
  {
   "cell_type": "code",
   "execution_count": 9,
   "metadata": {},
   "outputs": [
    {
     "name": "stdout",
     "output_type": "stream",
     "text": [
      "Shape: (1152, 6)\n",
      "\n",
      "Datos faltantes:\n",
      "user_id: 0 valores nulos\n",
      "funny: 0 valores nulos\n",
      "item_id: 0 valores nulos\n",
      "helpful: 0 valores nulos\n",
      "recommend: 0 valores nulos\n",
      "review: 0 valores nulos\n"
     ]
    }
   ],
   "source": [
    "# Eliminare las filas con valores nulos \n",
    "df_review.dropna(inplace=True)\n",
    "\n",
    "# Visualizó\n",
    "data_inspeccion(df_review)"
   ]
  },
  {
   "cell_type": "code",
   "execution_count": 10,
   "metadata": {},
   "outputs": [
    {
     "data": {
      "text/html": [
       "<div>\n",
       "<style scoped>\n",
       "    .dataframe tbody tr th:only-of-type {\n",
       "        vertical-align: middle;\n",
       "    }\n",
       "\n",
       "    .dataframe tbody tr th {\n",
       "        vertical-align: top;\n",
       "    }\n",
       "\n",
       "    .dataframe thead th {\n",
       "        text-align: right;\n",
       "    }\n",
       "</style>\n",
       "<table border=\"1\" class=\"dataframe\">\n",
       "  <thead>\n",
       "    <tr style=\"text-align: right;\">\n",
       "      <th></th>\n",
       "      <th>user_id</th>\n",
       "      <th>funny</th>\n",
       "      <th>item_id</th>\n",
       "      <th>helpful</th>\n",
       "      <th>recommend</th>\n",
       "      <th>review</th>\n",
       "    </tr>\n",
       "  </thead>\n",
       "  <tbody>\n",
       "    <tr>\n",
       "      <th>0</th>\n",
       "      <td>Wackky</td>\n",
       "      <td>1 person found this review funny</td>\n",
       "      <td>550</td>\n",
       "      <td>1 of 1 people (100%) found this review helpful</td>\n",
       "      <td>True</td>\n",
       "      <td>This game is fantastic if you are looking to D...</td>\n",
       "    </tr>\n",
       "    <tr>\n",
       "      <th>1</th>\n",
       "      <td>kevinator23</td>\n",
       "      <td>1 person found this review funny</td>\n",
       "      <td>218620</td>\n",
       "      <td>2 of 5 people (40%) found this review helpful</td>\n",
       "      <td>True</td>\n",
       "      <td>PayDay  on the difficulty scale Normal  lolwut...</td>\n",
       "    </tr>\n",
       "    <tr>\n",
       "      <th>2</th>\n",
       "      <td>Lord_Exploit</td>\n",
       "      <td>1 person found this review funny</td>\n",
       "      <td>311560</td>\n",
       "      <td>6 of 10 people (60%) found this review helpful</td>\n",
       "      <td>True</td>\n",
       "      <td>So after  odd hours i thought id write a reaso...</td>\n",
       "    </tr>\n",
       "    <tr>\n",
       "      <th>3</th>\n",
       "      <td>76561198141443390</td>\n",
       "      <td>3 people found this review funny</td>\n",
       "      <td>730</td>\n",
       "      <td>3 of 4 people (75%) found this review helpful</td>\n",
       "      <td>True</td>\n",
       "      <td>Game is very fun and very enjoyable</td>\n",
       "    </tr>\n",
       "    <tr>\n",
       "      <th>4</th>\n",
       "      <td>2768820078</td>\n",
       "      <td>2 people found this review funny</td>\n",
       "      <td>310950</td>\n",
       "      <td>2 of 3 people (67%) found this review helpful</td>\n",
       "      <td>True</td>\n",
       "      <td>lphappy</td>\n",
       "    </tr>\n",
       "  </tbody>\n",
       "</table>\n",
       "</div>"
      ],
      "text/plain": [
       "             user_id                             funny  item_id  \\\n",
       "0             Wackky  1 person found this review funny      550   \n",
       "1        kevinator23  1 person found this review funny   218620   \n",
       "2       Lord_Exploit  1 person found this review funny   311560   \n",
       "3  76561198141443390  3 people found this review funny      730   \n",
       "4         2768820078  2 people found this review funny   310950   \n",
       "\n",
       "                                          helpful  recommend  \\\n",
       "0  1 of 1 people (100%) found this review helpful       True   \n",
       "1   2 of 5 people (40%) found this review helpful       True   \n",
       "2  6 of 10 people (60%) found this review helpful       True   \n",
       "3   3 of 4 people (75%) found this review helpful       True   \n",
       "4   2 of 3 people (67%) found this review helpful       True   \n",
       "\n",
       "                                              review  \n",
       "0  This game is fantastic if you are looking to D...  \n",
       "1  PayDay  on the difficulty scale Normal  lolwut...  \n",
       "2  So after  odd hours i thought id write a reaso...  \n",
       "3               Game is very fun and very enjoyable   \n",
       "4                                            lphappy  "
      ]
     },
     "execution_count": 10,
     "metadata": {},
     "output_type": "execute_result"
    }
   ],
   "source": [
    "df_review.head()"
   ]
  },
  {
   "cell_type": "markdown",
   "metadata": {},
   "source": [
    "<h3> En la consignia del proyecto se me ha asignado hacer una columna de sentimiento para mi Dataset 'aus_review_EDA', en estas siguientes lineas visualizare el proceso de como poder hacerlo usando la libreria 'TextBlob' y a continuación utilizar el metodo .skew() para ver la asimetría de mi columna de sentimiento. </h3>"
   ]
  },
  {
   "cell_type": "code",
   "execution_count": 11,
   "metadata": {},
   "outputs": [],
   "source": [
    "# Crear una función para realizar el análisis de sentimiento\n",
    "def analisis_sentimiento(review):\n",
    "    analisis = TextBlob(str(review))\n",
    "    # Clasificar la polaridad de la reseña\n",
    "    if analisis.sentiment.polarity > 0:\n",
    "        return 2  # Positivo\n",
    "    elif analisis.sentiment.polarity < 0:\n",
    "        return 0  # Malo\n",
    "    else:\n",
    "        return 1  # Neutral\n",
    "\n",
    "# Aplicar el análisis de sentimiento a la columna 'review' y crear 'sentiment_analysis'\n",
    "df_review['sentiment_analysis'] = df_review['review'].apply(analisis_sentimiento)\n",
    "\n",
    "# Reemplazar la columna 'review' con 'sentiment_analysis'\n",
    "df_review.drop(columns=['review'], inplace=True)\n",
    "\n",
    "# Rellenar con 1 si la reseña está ausente\n",
    "df_review['sentiment_analysis'].fillna(1, inplace=True)\n",
    "\n"
   ]
  },
  {
   "cell_type": "code",
   "execution_count": 12,
   "metadata": {},
   "outputs": [
    {
     "data": {
      "text/html": [
       "<div>\n",
       "<style scoped>\n",
       "    .dataframe tbody tr th:only-of-type {\n",
       "        vertical-align: middle;\n",
       "    }\n",
       "\n",
       "    .dataframe tbody tr th {\n",
       "        vertical-align: top;\n",
       "    }\n",
       "\n",
       "    .dataframe thead th {\n",
       "        text-align: right;\n",
       "    }\n",
       "</style>\n",
       "<table border=\"1\" class=\"dataframe\">\n",
       "  <thead>\n",
       "    <tr style=\"text-align: right;\">\n",
       "      <th></th>\n",
       "      <th>user_id</th>\n",
       "      <th>funny</th>\n",
       "      <th>item_id</th>\n",
       "      <th>helpful</th>\n",
       "      <th>recommend</th>\n",
       "      <th>sentiment_analysis</th>\n",
       "    </tr>\n",
       "  </thead>\n",
       "  <tbody>\n",
       "    <tr>\n",
       "      <th>0</th>\n",
       "      <td>Wackky</td>\n",
       "      <td>1 person found this review funny</td>\n",
       "      <td>550</td>\n",
       "      <td>1 of 1 people (100%) found this review helpful</td>\n",
       "      <td>True</td>\n",
       "      <td>1</td>\n",
       "    </tr>\n",
       "    <tr>\n",
       "      <th>1</th>\n",
       "      <td>kevinator23</td>\n",
       "      <td>1 person found this review funny</td>\n",
       "      <td>218620</td>\n",
       "      <td>2 of 5 people (40%) found this review helpful</td>\n",
       "      <td>True</td>\n",
       "      <td>0</td>\n",
       "    </tr>\n",
       "    <tr>\n",
       "      <th>2</th>\n",
       "      <td>Lord_Exploit</td>\n",
       "      <td>1 person found this review funny</td>\n",
       "      <td>311560</td>\n",
       "      <td>6 of 10 people (60%) found this review helpful</td>\n",
       "      <td>True</td>\n",
       "      <td>2</td>\n",
       "    </tr>\n",
       "    <tr>\n",
       "      <th>3</th>\n",
       "      <td>76561198141443390</td>\n",
       "      <td>3 people found this review funny</td>\n",
       "      <td>730</td>\n",
       "      <td>3 of 4 people (75%) found this review helpful</td>\n",
       "      <td>True</td>\n",
       "      <td>2</td>\n",
       "    </tr>\n",
       "    <tr>\n",
       "      <th>4</th>\n",
       "      <td>2768820078</td>\n",
       "      <td>2 people found this review funny</td>\n",
       "      <td>310950</td>\n",
       "      <td>2 of 3 people (67%) found this review helpful</td>\n",
       "      <td>True</td>\n",
       "      <td>1</td>\n",
       "    </tr>\n",
       "    <tr>\n",
       "      <th>5</th>\n",
       "      <td>1337lolroflmao</td>\n",
       "      <td>1 person found this review funny</td>\n",
       "      <td>219740</td>\n",
       "      <td>1 of 2 people (50%) found this review helpful</td>\n",
       "      <td>True</td>\n",
       "      <td>2</td>\n",
       "    </tr>\n",
       "    <tr>\n",
       "      <th>6</th>\n",
       "      <td>Mastic</td>\n",
       "      <td>16 people found this review funny</td>\n",
       "      <td>304050</td>\n",
       "      <td>95 of 173 people (55%) found this review helpful</td>\n",
       "      <td>False</td>\n",
       "      <td>0</td>\n",
       "    </tr>\n",
       "    <tr>\n",
       "      <th>7</th>\n",
       "      <td>Mastic</td>\n",
       "      <td>1 person found this review funny</td>\n",
       "      <td>550</td>\n",
       "      <td>1 of 1 people (100%) found this review helpful</td>\n",
       "      <td>True</td>\n",
       "      <td>2</td>\n",
       "    </tr>\n",
       "    <tr>\n",
       "      <th>8</th>\n",
       "      <td>76561198104393251</td>\n",
       "      <td>1 person found this review funny</td>\n",
       "      <td>304930</td>\n",
       "      <td>No ratings yet</td>\n",
       "      <td>True</td>\n",
       "      <td>1</td>\n",
       "    </tr>\n",
       "    <tr>\n",
       "      <th>9</th>\n",
       "      <td>H1DD3NT3RR0R</td>\n",
       "      <td>1 person found this review funny</td>\n",
       "      <td>730</td>\n",
       "      <td>1 of 3 people (33%) found this review helpful</td>\n",
       "      <td>True</td>\n",
       "      <td>0</td>\n",
       "    </tr>\n",
       "  </tbody>\n",
       "</table>\n",
       "</div>"
      ],
      "text/plain": [
       "             user_id                              funny  item_id  \\\n",
       "0             Wackky   1 person found this review funny      550   \n",
       "1        kevinator23   1 person found this review funny   218620   \n",
       "2       Lord_Exploit   1 person found this review funny   311560   \n",
       "3  76561198141443390   3 people found this review funny      730   \n",
       "4         2768820078   2 people found this review funny   310950   \n",
       "5     1337lolroflmao   1 person found this review funny   219740   \n",
       "6             Mastic  16 people found this review funny   304050   \n",
       "7             Mastic   1 person found this review funny      550   \n",
       "8  76561198104393251   1 person found this review funny   304930   \n",
       "9       H1DD3NT3RR0R   1 person found this review funny      730   \n",
       "\n",
       "                                            helpful  recommend  \\\n",
       "0    1 of 1 people (100%) found this review helpful       True   \n",
       "1     2 of 5 people (40%) found this review helpful       True   \n",
       "2    6 of 10 people (60%) found this review helpful       True   \n",
       "3     3 of 4 people (75%) found this review helpful       True   \n",
       "4     2 of 3 people (67%) found this review helpful       True   \n",
       "5     1 of 2 people (50%) found this review helpful       True   \n",
       "6  95 of 173 people (55%) found this review helpful      False   \n",
       "7    1 of 1 people (100%) found this review helpful       True   \n",
       "8                                    No ratings yet       True   \n",
       "9     1 of 3 people (33%) found this review helpful       True   \n",
       "\n",
       "   sentiment_analysis  \n",
       "0                   1  \n",
       "1                   0  \n",
       "2                   2  \n",
       "3                   2  \n",
       "4                   1  \n",
       "5                   2  \n",
       "6                   0  \n",
       "7                   2  \n",
       "8                   1  \n",
       "9                   0  "
      ]
     },
     "execution_count": 12,
     "metadata": {},
     "output_type": "execute_result"
    }
   ],
   "source": [
    "df_review.head(10)"
   ]
  },
  {
   "cell_type": "code",
   "execution_count": 13,
   "metadata": {},
   "outputs": [
    {
     "data": {
      "text/html": [
       "<div>\n",
       "<style scoped>\n",
       "    .dataframe tbody tr th:only-of-type {\n",
       "        vertical-align: middle;\n",
       "    }\n",
       "\n",
       "    .dataframe tbody tr th {\n",
       "        vertical-align: top;\n",
       "    }\n",
       "\n",
       "    .dataframe thead th {\n",
       "        text-align: right;\n",
       "    }\n",
       "</style>\n",
       "<table border=\"1\" class=\"dataframe\">\n",
       "  <thead>\n",
       "    <tr style=\"text-align: right;\">\n",
       "      <th></th>\n",
       "      <th>item_id</th>\n",
       "      <th>sentiment_analysis</th>\n",
       "    </tr>\n",
       "  </thead>\n",
       "  <tbody>\n",
       "    <tr>\n",
       "      <th>count</th>\n",
       "      <td>1152.000000</td>\n",
       "      <td>1152.000000</td>\n",
       "    </tr>\n",
       "    <tr>\n",
       "      <th>mean</th>\n",
       "      <td>201075.483507</td>\n",
       "      <td>1.201389</td>\n",
       "    </tr>\n",
       "    <tr>\n",
       "      <th>std</th>\n",
       "      <td>146584.550344</td>\n",
       "      <td>0.896599</td>\n",
       "    </tr>\n",
       "    <tr>\n",
       "      <th>min</th>\n",
       "      <td>20.000000</td>\n",
       "      <td>0.000000</td>\n",
       "    </tr>\n",
       "    <tr>\n",
       "      <th>25%</th>\n",
       "      <td>12210.000000</td>\n",
       "      <td>0.000000</td>\n",
       "    </tr>\n",
       "    <tr>\n",
       "      <th>50%</th>\n",
       "      <td>230775.000000</td>\n",
       "      <td>2.000000</td>\n",
       "    </tr>\n",
       "    <tr>\n",
       "      <th>75%</th>\n",
       "      <td>316367.500000</td>\n",
       "      <td>2.000000</td>\n",
       "    </tr>\n",
       "    <tr>\n",
       "      <th>max</th>\n",
       "      <td>516040.000000</td>\n",
       "      <td>2.000000</td>\n",
       "    </tr>\n",
       "  </tbody>\n",
       "</table>\n",
       "</div>"
      ],
      "text/plain": [
       "             item_id  sentiment_analysis\n",
       "count    1152.000000         1152.000000\n",
       "mean   201075.483507            1.201389\n",
       "std    146584.550344            0.896599\n",
       "min        20.000000            0.000000\n",
       "25%     12210.000000            0.000000\n",
       "50%    230775.000000            2.000000\n",
       "75%    316367.500000            2.000000\n",
       "max    516040.000000            2.000000"
      ]
     },
     "execution_count": 13,
     "metadata": {},
     "output_type": "execute_result"
    }
   ],
   "source": [
    "# Visualizó las estadísticas resumidas de columnas numéricas\n",
    "df_review.describe() "
   ]
  },
  {
   "cell_type": "code",
   "execution_count": 14,
   "metadata": {},
   "outputs": [
    {
     "name": "stdout",
     "output_type": "stream",
     "text": [
      "Asimetría de la columna \"sentiment_analysis\": -0.4062379869577047\n"
     ]
    }
   ],
   "source": [
    "\n",
    "asimetria = df_review['sentiment_analysis'].skew()\n",
    "\n",
    "'''Voy a calcular la asimetría de mi columna de Sentimiento\n",
    "para observar si hay mas valores nulos,negativos o positivos'''\n",
    "\n",
    "print(f'Asimetría de la columna \"sentiment_analysis\": {asimetria}')"
   ]
  },
  {
   "cell_type": "markdown",
   "metadata": {},
   "source": [
    "* Ahora es el turno del Dataset 'items', para analizar su naturaleza y hacerle una limpieza, para el modelamiento."
   ]
  },
  {
   "cell_type": "code",
   "execution_count": 15,
   "metadata": {},
   "outputs": [
    {
     "data": {
      "text/html": [
       "<div>\n",
       "<style scoped>\n",
       "    .dataframe tbody tr th:only-of-type {\n",
       "        vertical-align: middle;\n",
       "    }\n",
       "\n",
       "    .dataframe tbody tr th {\n",
       "        vertical-align: top;\n",
       "    }\n",
       "\n",
       "    .dataframe thead th {\n",
       "        text-align: right;\n",
       "    }\n",
       "</style>\n",
       "<table border=\"1\" class=\"dataframe\">\n",
       "  <thead>\n",
       "    <tr style=\"text-align: right;\">\n",
       "      <th></th>\n",
       "      <th>user_id</th>\n",
       "      <th>items_count</th>\n",
       "      <th>item_id</th>\n",
       "      <th>item_name</th>\n",
       "      <th>playtime_forever</th>\n",
       "      <th>playtime_2weeks</th>\n",
       "    </tr>\n",
       "  </thead>\n",
       "  <tbody>\n",
       "    <tr>\n",
       "      <th>0</th>\n",
       "      <td>76561197970982479</td>\n",
       "      <td>277</td>\n",
       "      <td>10</td>\n",
       "      <td>CounterStrike</td>\n",
       "      <td>6</td>\n",
       "      <td>0</td>\n",
       "    </tr>\n",
       "    <tr>\n",
       "      <th>1</th>\n",
       "      <td>76561197970982479</td>\n",
       "      <td>277</td>\n",
       "      <td>20</td>\n",
       "      <td>Team Fortress Classic</td>\n",
       "      <td>0</td>\n",
       "      <td>0</td>\n",
       "    </tr>\n",
       "    <tr>\n",
       "      <th>2</th>\n",
       "      <td>76561197970982479</td>\n",
       "      <td>277</td>\n",
       "      <td>30</td>\n",
       "      <td>Day of Defeat</td>\n",
       "      <td>7</td>\n",
       "      <td>0</td>\n",
       "    </tr>\n",
       "    <tr>\n",
       "      <th>3</th>\n",
       "      <td>76561197970982479</td>\n",
       "      <td>277</td>\n",
       "      <td>40</td>\n",
       "      <td>Deathmatch Classic</td>\n",
       "      <td>0</td>\n",
       "      <td>0</td>\n",
       "    </tr>\n",
       "    <tr>\n",
       "      <th>4</th>\n",
       "      <td>76561197970982479</td>\n",
       "      <td>277</td>\n",
       "      <td>50</td>\n",
       "      <td>HalfLife Opposing Force</td>\n",
       "      <td>0</td>\n",
       "      <td>0</td>\n",
       "    </tr>\n",
       "  </tbody>\n",
       "</table>\n",
       "</div>"
      ],
      "text/plain": [
       "             user_id  items_count  item_id                item_name  \\\n",
       "0  76561197970982479          277       10            CounterStrike   \n",
       "1  76561197970982479          277       20    Team Fortress Classic   \n",
       "2  76561197970982479          277       30            Day of Defeat   \n",
       "3  76561197970982479          277       40       Deathmatch Classic   \n",
       "4  76561197970982479          277       50  HalfLife Opposing Force   \n",
       "\n",
       "   playtime_forever  playtime_2weeks  \n",
       "0                 6                0  \n",
       "1                 0                0  \n",
       "2                 7                0  \n",
       "3                 0                0  \n",
       "4                 0                0  "
      ]
     },
     "execution_count": 15,
     "metadata": {},
     "output_type": "execute_result"
    }
   ],
   "source": [
    "df_items = pd.read_csv('..\\\\Datos_csv\\\\aus_items_EDA.csv')\n",
    "df_items.head()"
   ]
  },
  {
   "cell_type": "code",
   "execution_count": 16,
   "metadata": {},
   "outputs": [
    {
     "name": "stdout",
     "output_type": "stream",
     "text": [
      "Shape: (5094105, 6)\n",
      "\n",
      "Datos faltantes:\n",
      "user_id: 0 valores nulos\n",
      "items_count: 0 valores nulos\n",
      "item_id: 0 valores nulos\n",
      "item_name: 1090 valores nulos\n",
      "playtime_forever: 0 valores nulos\n",
      "playtime_2weeks: 0 valores nulos\n"
     ]
    }
   ],
   "source": [
    "# Usare la misma  función para inspeccionar los datos e identificar valores nulos\n",
    "\n",
    "def data_inspeccion(variables):\n",
    "    print(f'Shape: {variables.shape}')\n",
    "    print(f'\\nDatos faltantes:')\n",
    "    for columna in variables.columns:\n",
    "        cantidad_nulos = variables[columna].isnull().sum()\n",
    "        print(f'{columna}: {cantidad_nulos} valores nulos')\n",
    "\n",
    "data_inspeccion(df_items)\n"
   ]
  },
  {
   "cell_type": "code",
   "execution_count": 17,
   "metadata": {},
   "outputs": [
    {
     "name": "stdout",
     "output_type": "stream",
     "text": [
      "Valores nulos en la columna 'item_name': 1090\n",
      "\n",
      "Primeros valores no nulos en la columna:\n",
      "0              CounterStrike\n",
      "1      Team Fortress Classic\n",
      "2              Day of Defeat\n",
      "3         Deathmatch Classic\n",
      "4    HalfLife Opposing Force\n",
      "Name: item_name, dtype: object\n"
     ]
    }
   ],
   "source": [
    "# Analizo la columna 'item_name' en busca de valores nulos\n",
    "columna_item_name = df_items['item_name'] # Selecciono la columna 'item_name'\n",
    "valores_nulos = columna_item_name.isnull().sum()  # Cuento la cantidad de valores nulos en la columna\n",
    "\n",
    "# Muestro la cantidad de valores nulos y los primeros valores no nulos en la columna\n",
    "print(f\"Valores nulos en la columna 'item_name': {valores_nulos}\")\n",
    "print(\"\\nPrimeros valores no nulos en la columna:\")\n",
    "print(columna_item_name.dropna().head())  # Muestro los primeros valores no nulos"
   ]
  },
  {
   "cell_type": "code",
   "execution_count": 18,
   "metadata": {},
   "outputs": [
    {
     "name": "stdout",
     "output_type": "stream",
     "text": [
      "Valores nulos en el DataFrame después de eliminarlos:\n",
      "user_id             0\n",
      "items_count         0\n",
      "item_id             0\n",
      "item_name           0\n",
      "playtime_forever    0\n",
      "playtime_2weeks     0\n",
      "dtype: int64\n"
     ]
    }
   ],
   "source": [
    "# Eliminare las filas con valores nulos en todo el DataFrame\n",
    "df_items.dropna(inplace=True)\n",
    "\n",
    "# Verifico que se hayan eliminado\n",
    "valores_nulos_despues = df_items.isnull().sum()\n",
    "\n",
    "# Muestro la cantidad de valores nulos después de eliminarlos\n",
    "print(\"Valores nulos en el DataFrame después de eliminarlos:\")\n",
    "print(valores_nulos_despues)\n"
   ]
  },
  {
   "cell_type": "code",
   "execution_count": 19,
   "metadata": {},
   "outputs": [
    {
     "data": {
      "text/html": [
       "<div>\n",
       "<style scoped>\n",
       "    .dataframe tbody tr th:only-of-type {\n",
       "        vertical-align: middle;\n",
       "    }\n",
       "\n",
       "    .dataframe tbody tr th {\n",
       "        vertical-align: top;\n",
       "    }\n",
       "\n",
       "    .dataframe thead th {\n",
       "        text-align: right;\n",
       "    }\n",
       "</style>\n",
       "<table border=\"1\" class=\"dataframe\">\n",
       "  <thead>\n",
       "    <tr style=\"text-align: right;\">\n",
       "      <th></th>\n",
       "      <th>user_id</th>\n",
       "      <th>items_count</th>\n",
       "      <th>item_id</th>\n",
       "      <th>item_name</th>\n",
       "      <th>playtime_forever</th>\n",
       "      <th>playtime_2weeks</th>\n",
       "    </tr>\n",
       "  </thead>\n",
       "  <tbody>\n",
       "    <tr>\n",
       "      <th>count</th>\n",
       "      <td>5093015</td>\n",
       "      <td>5.093015e+06</td>\n",
       "      <td>5.093015e+06</td>\n",
       "      <td>5093015</td>\n",
       "      <td>5.093015e+06</td>\n",
       "      <td>5.093015e+06</td>\n",
       "    </tr>\n",
       "    <tr>\n",
       "      <th>unique</th>\n",
       "      <td>70912</td>\n",
       "      <td>NaN</td>\n",
       "      <td>NaN</td>\n",
       "      <td>10730</td>\n",
       "      <td>NaN</td>\n",
       "      <td>NaN</td>\n",
       "    </tr>\n",
       "    <tr>\n",
       "      <th>top</th>\n",
       "      <td>phrostb</td>\n",
       "      <td>NaN</td>\n",
       "      <td>NaN</td>\n",
       "      <td>Dota  Test</td>\n",
       "      <td>NaN</td>\n",
       "      <td>NaN</td>\n",
       "    </tr>\n",
       "    <tr>\n",
       "      <th>freq</th>\n",
       "      <td>7760</td>\n",
       "      <td>NaN</td>\n",
       "      <td>NaN</td>\n",
       "      <td>49136</td>\n",
       "      <td>NaN</td>\n",
       "      <td>NaN</td>\n",
       "    </tr>\n",
       "    <tr>\n",
       "      <th>mean</th>\n",
       "      <td>NaN</td>\n",
       "      <td>3.156817e+02</td>\n",
       "      <td>1.783790e+05</td>\n",
       "      <td>NaN</td>\n",
       "      <td>9.907150e+02</td>\n",
       "      <td>9.070876e+00</td>\n",
       "    </tr>\n",
       "    <tr>\n",
       "      <th>std</th>\n",
       "      <td>NaN</td>\n",
       "      <td>6.968559e+02</td>\n",
       "      <td>1.318627e+05</td>\n",
       "      <td>NaN</td>\n",
       "      <td>5.414788e+03</td>\n",
       "      <td>1.403294e+02</td>\n",
       "    </tr>\n",
       "    <tr>\n",
       "      <th>min</th>\n",
       "      <td>NaN</td>\n",
       "      <td>1.000000e+00</td>\n",
       "      <td>1.000000e+01</td>\n",
       "      <td>NaN</td>\n",
       "      <td>0.000000e+00</td>\n",
       "      <td>0.000000e+00</td>\n",
       "    </tr>\n",
       "    <tr>\n",
       "      <th>25%</th>\n",
       "      <td>NaN</td>\n",
       "      <td>7.100000e+01</td>\n",
       "      <td>3.445000e+04</td>\n",
       "      <td>NaN</td>\n",
       "      <td>0.000000e+00</td>\n",
       "      <td>0.000000e+00</td>\n",
       "    </tr>\n",
       "    <tr>\n",
       "      <th>50%</th>\n",
       "      <td>NaN</td>\n",
       "      <td>1.370000e+02</td>\n",
       "      <td>2.144200e+05</td>\n",
       "      <td>NaN</td>\n",
       "      <td>3.400000e+01</td>\n",
       "      <td>0.000000e+00</td>\n",
       "    </tr>\n",
       "    <tr>\n",
       "      <th>75%</th>\n",
       "      <td>NaN</td>\n",
       "      <td>2.750000e+02</td>\n",
       "      <td>2.664300e+05</td>\n",
       "      <td>NaN</td>\n",
       "      <td>3.550000e+02</td>\n",
       "      <td>0.000000e+00</td>\n",
       "    </tr>\n",
       "    <tr>\n",
       "      <th>max</th>\n",
       "      <td>NaN</td>\n",
       "      <td>7.762000e+03</td>\n",
       "      <td>5.307200e+05</td>\n",
       "      <td>NaN</td>\n",
       "      <td>6.427730e+05</td>\n",
       "      <td>1.996700e+04</td>\n",
       "    </tr>\n",
       "  </tbody>\n",
       "</table>\n",
       "</div>"
      ],
      "text/plain": [
       "        user_id   items_count       item_id   item_name  playtime_forever  \\\n",
       "count   5093015  5.093015e+06  5.093015e+06     5093015      5.093015e+06   \n",
       "unique    70912           NaN           NaN       10730               NaN   \n",
       "top     phrostb           NaN           NaN  Dota  Test               NaN   \n",
       "freq       7760           NaN           NaN       49136               NaN   \n",
       "mean        NaN  3.156817e+02  1.783790e+05         NaN      9.907150e+02   \n",
       "std         NaN  6.968559e+02  1.318627e+05         NaN      5.414788e+03   \n",
       "min         NaN  1.000000e+00  1.000000e+01         NaN      0.000000e+00   \n",
       "25%         NaN  7.100000e+01  3.445000e+04         NaN      0.000000e+00   \n",
       "50%         NaN  1.370000e+02  2.144200e+05         NaN      3.400000e+01   \n",
       "75%         NaN  2.750000e+02  2.664300e+05         NaN      3.550000e+02   \n",
       "max         NaN  7.762000e+03  5.307200e+05         NaN      6.427730e+05   \n",
       "\n",
       "        playtime_2weeks  \n",
       "count      5.093015e+06  \n",
       "unique              NaN  \n",
       "top                 NaN  \n",
       "freq                NaN  \n",
       "mean       9.070876e+00  \n",
       "std        1.403294e+02  \n",
       "min        0.000000e+00  \n",
       "25%        0.000000e+00  \n",
       "50%        0.000000e+00  \n",
       "75%        0.000000e+00  \n",
       "max        1.996700e+04  "
      ]
     },
     "execution_count": 19,
     "metadata": {},
     "output_type": "execute_result"
    }
   ],
   "source": [
    "# include='all' proporciona un resumen adicional de los datos\n",
    "df_items.describe(include='all')"
   ]
  },
  {
   "cell_type": "code",
   "execution_count": 20,
   "metadata": {},
   "outputs": [
    {
     "name": "stdout",
     "output_type": "stream",
     "text": [
      "<class 'pandas.core.frame.DataFrame'>\n",
      "Index: 5093015 entries, 0 to 5094104\n",
      "Data columns (total 6 columns):\n",
      " #   Column            Dtype \n",
      "---  ------            ----- \n",
      " 0   user_id           object\n",
      " 1   items_count       int64 \n",
      " 2   item_id           int64 \n",
      " 3   item_name         object\n",
      " 4   playtime_forever  int64 \n",
      " 5   playtime_2weeks   int64 \n",
      "dtypes: int64(4), object(2)\n",
      "memory usage: 272.0+ MB\n"
     ]
    }
   ],
   "source": [
    "df_items.info()"
   ]
  },
  {
   "cell_type": "markdown",
   "metadata": {},
   "source": [
    "* Ahora revisare el Dataframe 'steam_games_EDA'"
   ]
  },
  {
   "cell_type": "code",
   "execution_count": 21,
   "metadata": {},
   "outputs": [],
   "source": [
    "df_games = pd.read_csv('..\\\\Datos_csv\\\\steam_games_EDA.csv')"
   ]
  },
  {
   "cell_type": "code",
   "execution_count": 22,
   "metadata": {},
   "outputs": [
    {
     "name": "stdout",
     "output_type": "stream",
     "text": [
      "<class 'pandas.core.frame.DataFrame'>\n",
      "RangeIndex: 22396 entries, 0 to 22395\n",
      "Data columns (total 9 columns):\n",
      " #   Column        Non-Null Count  Dtype \n",
      "---  ------        --------------  ----- \n",
      " 0   publisher     22361 non-null  object\n",
      " 1   genres        22396 non-null  object\n",
      " 2   app_name      22377 non-null  object\n",
      " 3   title         22377 non-null  object\n",
      " 4   release_date  22396 non-null  object\n",
      " 5   tags          22396 non-null  object\n",
      " 6   specs         22396 non-null  object\n",
      " 7   price         22396 non-null  object\n",
      " 8   developer     22349 non-null  object\n",
      "dtypes: object(9)\n",
      "memory usage: 1.5+ MB\n"
     ]
    }
   ],
   "source": [
    "df_games.info()"
   ]
  },
  {
   "cell_type": "code",
   "execution_count": 23,
   "metadata": {},
   "outputs": [
    {
     "name": "stdout",
     "output_type": "stream",
     "text": [
      "Shape: (22396, 9)\n",
      "\n",
      "Datos faltantes:\n",
      "publisher: 35 valores nulos\n",
      "genres: 0 valores nulos\n",
      "app_name: 19 valores nulos\n",
      "title: 19 valores nulos\n",
      "release_date: 0 valores nulos\n",
      "tags: 0 valores nulos\n",
      "specs: 0 valores nulos\n",
      "price: 0 valores nulos\n",
      "developer: 47 valores nulos\n"
     ]
    }
   ],
   "source": [
    "# Usare la misma  función para inspeccionar los datos e identificar valores nulos\n",
    "\n",
    "def data_inspeccion(variables):\n",
    "    print(f'Shape: {variables.shape}')\n",
    "    print(f'\\nDatos faltantes:')\n",
    "    for columna in variables.columns:\n",
    "        cantidad_nulos = variables[columna].isnull().sum()\n",
    "        print(f'{columna}: {cantidad_nulos} valores nulos')\n",
    "\n",
    "data_inspeccion(df_games)\n"
   ]
  },
  {
   "cell_type": "code",
   "execution_count": 24,
   "metadata": {},
   "outputs": [
    {
     "name": "stdout",
     "output_type": "stream",
     "text": [
      "Valores nulos en el DataFrame después de eliminarlos:\n",
      "publisher       0\n",
      "genres          0\n",
      "app_name        0\n",
      "title           0\n",
      "release_date    0\n",
      "tags            0\n",
      "specs           0\n",
      "price           0\n",
      "developer       0\n",
      "dtype: int64\n"
     ]
    }
   ],
   "source": [
    "# Eliminare las filas con valores nulos en todo el DataFrame\n",
    "df_games.dropna(inplace=True)\n",
    "\n",
    "# Verifico que se hayan eliminado\n",
    "valores_nulos_despues = df_games.isnull().sum()\n",
    "\n",
    "# Muestro la cantidad de valores nulos después de eliminarlos\n",
    "print(\"Valores nulos en el DataFrame después de eliminarlos:\")\n",
    "print(valores_nulos_despues)\n"
   ]
  },
  {
   "cell_type": "code",
   "execution_count": 25,
   "metadata": {},
   "outputs": [
    {
     "data": {
      "text/html": [
       "<div>\n",
       "<style scoped>\n",
       "    .dataframe tbody tr th:only-of-type {\n",
       "        vertical-align: middle;\n",
       "    }\n",
       "\n",
       "    .dataframe tbody tr th {\n",
       "        vertical-align: top;\n",
       "    }\n",
       "\n",
       "    .dataframe thead th {\n",
       "        text-align: right;\n",
       "    }\n",
       "</style>\n",
       "<table border=\"1\" class=\"dataframe\">\n",
       "  <thead>\n",
       "    <tr style=\"text-align: right;\">\n",
       "      <th></th>\n",
       "      <th>publisher</th>\n",
       "      <th>genres</th>\n",
       "      <th>app_name</th>\n",
       "      <th>title</th>\n",
       "      <th>release_date</th>\n",
       "      <th>tags</th>\n",
       "      <th>specs</th>\n",
       "      <th>price</th>\n",
       "      <th>developer</th>\n",
       "    </tr>\n",
       "  </thead>\n",
       "  <tbody>\n",
       "    <tr>\n",
       "      <th>count</th>\n",
       "      <td>22332</td>\n",
       "      <td>22332</td>\n",
       "      <td>22332</td>\n",
       "      <td>22332</td>\n",
       "      <td>22332</td>\n",
       "      <td>22332</td>\n",
       "      <td>22332</td>\n",
       "      <td>22332</td>\n",
       "      <td>22332</td>\n",
       "    </tr>\n",
       "    <tr>\n",
       "      <th>unique</th>\n",
       "      <td>7757</td>\n",
       "      <td>803</td>\n",
       "      <td>21872</td>\n",
       "      <td>21872</td>\n",
       "      <td>3209</td>\n",
       "      <td>12404</td>\n",
       "      <td>3311</td>\n",
       "      <td>132</td>\n",
       "      <td>10170</td>\n",
       "    </tr>\n",
       "    <tr>\n",
       "      <th>top</th>\n",
       "      <td>Ubisoft</td>\n",
       "      <td>Action</td>\n",
       "      <td>Train Simulator BR Class  Loco AddOn</td>\n",
       "      <td>Train Simulator BR Class  Loco AddOn</td>\n",
       "      <td>2012-10-16</td>\n",
       "      <td>Simulation</td>\n",
       "      <td>Singleplayer</td>\n",
       "      <td>9.99</td>\n",
       "      <td>Dovetail Games</td>\n",
       "    </tr>\n",
       "    <tr>\n",
       "      <th>freq</th>\n",
       "      <td>366</td>\n",
       "      <td>1540</td>\n",
       "      <td>12</td>\n",
       "      <td>12</td>\n",
       "      <td>100</td>\n",
       "      <td>939</td>\n",
       "      <td>2622</td>\n",
       "      <td>3160</td>\n",
       "      <td>251</td>\n",
       "    </tr>\n",
       "  </tbody>\n",
       "</table>\n",
       "</div>"
      ],
      "text/plain": [
       "       publisher  genres                              app_name  \\\n",
       "count      22332   22332                                 22332   \n",
       "unique      7757     803                                 21872   \n",
       "top      Ubisoft  Action  Train Simulator BR Class  Loco AddOn   \n",
       "freq         366    1540                                    12   \n",
       "\n",
       "                                       title release_date        tags  \\\n",
       "count                                  22332        22332       22332   \n",
       "unique                                 21872         3209       12404   \n",
       "top     Train Simulator BR Class  Loco AddOn   2012-10-16  Simulation   \n",
       "freq                                      12          100         939   \n",
       "\n",
       "               specs  price       developer  \n",
       "count          22332  22332           22332  \n",
       "unique          3311    132           10170  \n",
       "top     Singleplayer   9.99  Dovetail Games  \n",
       "freq            2622   3160             251  "
      ]
     },
     "execution_count": 25,
     "metadata": {},
     "output_type": "execute_result"
    }
   ],
   "source": [
    "df_games.describe()"
   ]
  },
  {
   "cell_type": "markdown",
   "metadata": {},
   "source": [
    "<h4>Realizaré un análisis exploratorio de mis DataFrames con el objetivo de evaluar la calidad de los datos y detectar posibles valores atípicos. Esta exploración inicial es crucial para comprender la estructura de los conjuntos de datos y garantizar que estén preparados adecuadamente para el análisis subsiguiente. Utilizaré diversas técnicas de visualización para obtener información valiosa que orientará las decisiones futuras.\n",
    "\n",
    "Primero, crearé un histograma para la columna 'sentiment_analysis' en el DataFrame de reseñas. Esto me permitirá visualizar la distribución de sentimientos en las reseñas, lo que es fundamental para comprender cómo se sienten los usuarios con respecto a los juegos.\n",
    "\n",
    "Luego, generaré un gráfico de dispersión utilizando el DataFrame 'df_items', explorando la relación entre las variables 'playtime_forever' y 'playtime_2weeks'. Esta visualización ayudará a identificar cualquier patrón o relación entre los tiempos de juego a largo plazo y a corto plazo.\n",
    "\n",
    "Finalmente, investigaré los géneros más comunes en el DataFrame de juegos ('df_games') mediante un gráfico de barras. Esto proporcionará información sobre cuáles son los géneros más populares en los juegos y cuántos de ellos están presentes en el conjunto de datos.\n",
    "\n",
    "A continuación, se presentan los resultados de estas visualizaciones que ayudarán a guiar el análisis y la toma de decisiones futuras.<br>\n",
    "Disfruta mucho...</h4>\n",
    "\n",
    "\n",
    "\n",
    "\n"
   ]
  },
  {
   "cell_type": "markdown",
   "metadata": {},
   "source": [
    "# Graficar"
   ]
  },
  {
   "cell_type": "code",
   "execution_count": 26,
   "metadata": {},
   "outputs": [
    {
     "data": {
      "image/png": "[encoded data removed]",
      "text/plain": [
       "<Figure size 1000x400 with 1 Axes>"
      ]
     },
     "metadata": {},
     "output_type": "display_data"
    },
    {
     "data": {
      "image/png": "[encoded data removed]",
      "text/plain": [
       "<Figure size 800x600 with 1 Axes>"
      ]
     },
     "metadata": {},
     "output_type": "display_data"
    },
    {
     "name": "stderr",
     "output_type": "stream",
     "text": [
      "C:\\Users\\Lenovo G40 80\\AppData\\Local\\Temp\\ipykernel_1057296\\2877678783.py:23: FutureWarning: \n",
      "\n",
      "Passing `palette` without assigning `hue` is deprecated and will be removed in v0.14.0. Assign the `y` variable to `hue` and set `legend=False` for the same effect.\n",
      "\n",
      "  sns.barplot(x=genres_counts[:10], y=genres_counts.index[:10], palette=\"viridis\")\n"
     ]
    },
    {
     "data": {
      "image/png": "[encoded data removed]",
      "text/plain": [
       "<Figure size 1200x600 with 1 Axes>"
      ]
     },
     "metadata": {},
     "output_type": "display_data"
    }
   ],
   "source": [
    "# Creación de un histograma para la columna 'sentiment_analysis'\n",
    "plt.figure(figsize=(10, 4))\n",
    "plt.subplot(1, 2, 1)\n",
    "sns.histplot(df_review['sentiment_analysis'], kde=True)\n",
    "plt.title('Distribución de Sentimientos en las Reseñas')\n",
    "plt.xlabel('Sentimiento')\n",
    "plt.ylabel('Frecuencia')\n",
    "plt.show()\n",
    "\n",
    "# Crear un gráfico de dispersión para mi Dataframe 'df_items' \n",
    "plt.figure(figsize=(8, 6))\n",
    "sns.scatterplot(data=df_items, x='playtime_forever', y='playtime_2weeks')\n",
    "plt.title('Gráfico de Dispersión entre playtime_forever y playtime_2weeks')\n",
    "plt.xlabel('playtime_forever')\n",
    "plt.ylabel('playtime_2weeks')\n",
    "plt.show()\n",
    "\n",
    "# Esto agrupa los valores y cuenta cuántas veces aparece cada uno\n",
    "genres_counts = df_games['genres'].value_counts()\n",
    "\n",
    "# Voy a crear un gráfico de barras para 'df_games' \n",
    "plt.figure(figsize=(12, 6))  # Establece el tamaño del gráfico\n",
    "sns.barplot(x=genres_counts[:10], y=genres_counts.index[:10], palette=\"viridis\")\n",
    "\n",
    "# etiquetamos\n",
    "plt.xlabel(\"Número de Juegos\")\n",
    "plt.ylabel(\"Género\")\n",
    "plt.title(\"Los 10 géneros más comunes en el DataFrame\")\n",
    "plt.show()"
   ]
  },
  {
   "cell_type": "markdown",
   "metadata": {},
   "source": [
    "### En la visualización previa de mis DataFrames, se identificaron datos atípicos en el DataFrame 'df_items'. Sin embargo, decidí mantener estos valores sin modificar, ya que no parecen tener un impacto perjudicial o significativo en el análisis."
   ]
  },
  {
   "cell_type": "markdown",
   "metadata": {},
   "source": [
    "- Voy a crear mis Dataframes para hacer las funciones."
   ]
  },
  {
   "cell_type": "code",
   "execution_count": 27,
   "metadata": {},
   "outputs": [
    {
     "data": {
      "text/html": [
       "<div>\n",
       "<style scoped>\n",
       "    .dataframe tbody tr th:only-of-type {\n",
       "        vertical-align: middle;\n",
       "    }\n",
       "\n",
       "    .dataframe tbody tr th {\n",
       "        vertical-align: top;\n",
       "    }\n",
       "\n",
       "    .dataframe thead th {\n",
       "        text-align: right;\n",
       "    }\n",
       "</style>\n",
       "<table border=\"1\" class=\"dataframe\">\n",
       "  <thead>\n",
       "    <tr style=\"text-align: right;\">\n",
       "      <th></th>\n",
       "      <th>publisher</th>\n",
       "      <th>genres</th>\n",
       "      <th>app_name</th>\n",
       "      <th>title</th>\n",
       "      <th>release_date</th>\n",
       "      <th>tags</th>\n",
       "      <th>specs</th>\n",
       "      <th>price</th>\n",
       "      <th>developer</th>\n",
       "    </tr>\n",
       "  </thead>\n",
       "  <tbody>\n",
       "    <tr>\n",
       "      <th>0</th>\n",
       "      <td>Kotoshiro</td>\n",
       "      <td>Action Casual Indie Simulation Strategy</td>\n",
       "      <td>Lost Summoner Kitty</td>\n",
       "      <td>Lost Summoner Kitty</td>\n",
       "      <td>2018-01-04</td>\n",
       "      <td>Strategy Action Indie Casual Simulation</td>\n",
       "      <td>Singleplayer</td>\n",
       "      <td>4.99</td>\n",
       "      <td>Kotoshiro</td>\n",
       "    </tr>\n",
       "    <tr>\n",
       "      <th>1</th>\n",
       "      <td>Making Fun Inc</td>\n",
       "      <td>Free to Play Indie RPG Strategy</td>\n",
       "      <td>Ironbound</td>\n",
       "      <td>Ironbound</td>\n",
       "      <td>2018-01-04</td>\n",
       "      <td>Free to Play Strategy Indie RPG Card Game Trad...</td>\n",
       "      <td>Singleplayer Multiplayer Online MultiPlayer Cr...</td>\n",
       "      <td>Free To Play</td>\n",
       "      <td>Secret Level SRL</td>\n",
       "    </tr>\n",
       "  </tbody>\n",
       "</table>\n",
       "</div>"
      ],
      "text/plain": [
       "        publisher                                   genres  \\\n",
       "0       Kotoshiro  Action Casual Indie Simulation Strategy   \n",
       "1  Making Fun Inc          Free to Play Indie RPG Strategy   \n",
       "\n",
       "              app_name                title release_date  \\\n",
       "0  Lost Summoner Kitty  Lost Summoner Kitty   2018-01-04   \n",
       "1            Ironbound            Ironbound   2018-01-04   \n",
       "\n",
       "                                                tags  \\\n",
       "0            Strategy Action Indie Casual Simulation   \n",
       "1  Free to Play Strategy Indie RPG Card Game Trad...   \n",
       "\n",
       "                                               specs         price  \\\n",
       "0                                       Singleplayer          4.99   \n",
       "1  Singleplayer Multiplayer Online MultiPlayer Cr...  Free To Play   \n",
       "\n",
       "          developer  \n",
       "0         Kotoshiro  \n",
       "1  Secret Level SRL  "
      ]
     },
     "execution_count": 27,
     "metadata": {},
     "output_type": "execute_result"
    }
   ],
   "source": [
    "df_games.head(2)"
   ]
  },
  {
   "cell_type": "code",
   "execution_count": 28,
   "metadata": {},
   "outputs": [
    {
     "data": {
      "text/html": [
       "<div>\n",
       "<style scoped>\n",
       "    .dataframe tbody tr th:only-of-type {\n",
       "        vertical-align: middle;\n",
       "    }\n",
       "\n",
       "    .dataframe tbody tr th {\n",
       "        vertical-align: top;\n",
       "    }\n",
       "\n",
       "    .dataframe thead th {\n",
       "        text-align: right;\n",
       "    }\n",
       "</style>\n",
       "<table border=\"1\" class=\"dataframe\">\n",
       "  <thead>\n",
       "    <tr style=\"text-align: right;\">\n",
       "      <th></th>\n",
       "      <th>user_id</th>\n",
       "      <th>items_count</th>\n",
       "      <th>item_id</th>\n",
       "      <th>item_name</th>\n",
       "      <th>playtime_forever</th>\n",
       "      <th>playtime_2weeks</th>\n",
       "    </tr>\n",
       "  </thead>\n",
       "  <tbody>\n",
       "    <tr>\n",
       "      <th>0</th>\n",
       "      <td>76561197970982479</td>\n",
       "      <td>277</td>\n",
       "      <td>10</td>\n",
       "      <td>CounterStrike</td>\n",
       "      <td>6</td>\n",
       "      <td>0</td>\n",
       "    </tr>\n",
       "    <tr>\n",
       "      <th>1</th>\n",
       "      <td>76561197970982479</td>\n",
       "      <td>277</td>\n",
       "      <td>20</td>\n",
       "      <td>Team Fortress Classic</td>\n",
       "      <td>0</td>\n",
       "      <td>0</td>\n",
       "    </tr>\n",
       "  </tbody>\n",
       "</table>\n",
       "</div>"
      ],
      "text/plain": [
       "             user_id  items_count  item_id              item_name  \\\n",
       "0  76561197970982479          277       10          CounterStrike   \n",
       "1  76561197970982479          277       20  Team Fortress Classic   \n",
       "\n",
       "   playtime_forever  playtime_2weeks  \n",
       "0                 6                0  \n",
       "1                 0                0  "
      ]
     },
     "execution_count": 28,
     "metadata": {},
     "output_type": "execute_result"
    }
   ],
   "source": [
    "df_items.head(2)"
   ]
  },
  {
   "cell_type": "code",
   "execution_count": 29,
   "metadata": {},
   "outputs": [
    {
     "data": {
      "text/html": [
       "<div>\n",
       "<style scoped>\n",
       "    .dataframe tbody tr th:only-of-type {\n",
       "        vertical-align: middle;\n",
       "    }\n",
       "\n",
       "    .dataframe tbody tr th {\n",
       "        vertical-align: top;\n",
       "    }\n",
       "\n",
       "    .dataframe thead th {\n",
       "        text-align: right;\n",
       "    }\n",
       "</style>\n",
       "<table border=\"1\" class=\"dataframe\">\n",
       "  <thead>\n",
       "    <tr style=\"text-align: right;\">\n",
       "      <th></th>\n",
       "      <th>user_id</th>\n",
       "      <th>funny</th>\n",
       "      <th>item_id</th>\n",
       "      <th>helpful</th>\n",
       "      <th>recommend</th>\n",
       "      <th>sentiment_analysis</th>\n",
       "    </tr>\n",
       "  </thead>\n",
       "  <tbody>\n",
       "    <tr>\n",
       "      <th>0</th>\n",
       "      <td>Wackky</td>\n",
       "      <td>1 person found this review funny</td>\n",
       "      <td>550</td>\n",
       "      <td>1 of 1 people (100%) found this review helpful</td>\n",
       "      <td>True</td>\n",
       "      <td>1</td>\n",
       "    </tr>\n",
       "    <tr>\n",
       "      <th>1</th>\n",
       "      <td>kevinator23</td>\n",
       "      <td>1 person found this review funny</td>\n",
       "      <td>218620</td>\n",
       "      <td>2 of 5 people (40%) found this review helpful</td>\n",
       "      <td>True</td>\n",
       "      <td>0</td>\n",
       "    </tr>\n",
       "  </tbody>\n",
       "</table>\n",
       "</div>"
      ],
      "text/plain": [
       "       user_id                             funny  item_id  \\\n",
       "0       Wackky  1 person found this review funny      550   \n",
       "1  kevinator23  1 person found this review funny   218620   \n",
       "\n",
       "                                          helpful  recommend  \\\n",
       "0  1 of 1 people (100%) found this review helpful       True   \n",
       "1   2 of 5 people (40%) found this review helpful       True   \n",
       "\n",
       "   sentiment_analysis  \n",
       "0                   1  \n",
       "1                   0  "
      ]
     },
     "execution_count": 29,
     "metadata": {},
     "output_type": "execute_result"
    }
   ],
   "source": [
    "df_review.head(2)"
   ]
  },
  {
   "cell_type": "code",
   "execution_count": 30,
   "metadata": {},
   "outputs": [],
   "source": [
    "# Selecciono las columnas 'price','genres','developer','release_date' del DataFrame df_games\n",
    "df_Developers = df_games[['price','genres','developer','release_date']]\n",
    "\n",
    "# Selecciono la columna 'playtime_forever' del DataFrame df_items\n",
    "df_items_subset = df_items[['user_id','item_id']]\n",
    "\n",
    "# Combino las columnas seleccionadas en un nuevo DataFrame\n",
    "Funcion1 = pd.concat([df_Developers, df_items_subset], axis=1)"
   ]
  },
  {
   "cell_type": "code",
   "execution_count": 31,
   "metadata": {},
   "outputs": [],
   "source": [
    "Funcion1.to_csv('funcion1_developer.csv', index=False)"
   ]
  },
  {
   "cell_type": "code",
   "execution_count": 32,
   "metadata": {},
   "outputs": [],
   "source": [
    "# Selecciona las columnas 'price' del DataFrame df_games\n",
    "df_Funcion2 = df_games[['price']]\n",
    "\n",
    "# Selecciona la columna 'playtime_forever' del DataFrame df_items\n",
    "df_items_subset = df_review[['recommend','user_id', 'item_id']]\n",
    "\n",
    "# Combina las columnas seleccionadas en un nuevo DataFrame\n",
    "Funcion2 = pd.concat([df_Funcion2, df_items_subset], axis=1)"
   ]
  },
  {
   "cell_type": "code",
   "execution_count": 33,
   "metadata": {},
   "outputs": [],
   "source": [
    "Funcion2.to_csv('Funcion2_userdata.csv', index=False)"
   ]
  },
  {
   "cell_type": "code",
   "execution_count": 34,
   "metadata": {},
   "outputs": [],
   "source": [
    "# Selecciono las columnas 'title' y 'release_date' del DataFrame df_games\n",
    "df_funcion3_genero= df_items[['playtime_2weeks', 'user_id', 'playtime_forever','item_id']]\n",
    "\n",
    "# Selecciono la columna 'recommend', 'user_id' del DataFrame df_review\n",
    "df_review_subset = df_games[['genres','release_date']]\n",
    "\n",
    "# Combino las columnas seleccionadas en un nuevo DataFrame\n",
    "UsersGenre = pd.concat([df_funcion3_genero, df_review_subset], axis=1)"
   ]
  },
  {
   "cell_type": "code",
   "execution_count": 35,
   "metadata": {},
   "outputs": [],
   "source": [
    "UsersGenre.to_csv('UsersGenre_funcion3.csv', index=False)"
   ]
  },
  {
   "cell_type": "code",
   "execution_count": 36,
   "metadata": {},
   "outputs": [],
   "source": [
    "# Selecciono las columnas 'title' y 'release_date' del DataFrame df_games\n",
    "df_funcion4_BestDeveloper = df_games[['developer', 'title', 'release_date']]\n",
    "\n",
    "# Selecciono la columna 'recommend', 'user_id' del DataFrame df_review\n",
    "df_review_subset = df_review[['recommend']]\n",
    "\n",
    "# Combino las columnas seleccionadas en un nuevo DataFrame\n",
    "BestDeveloper = pd.concat([df_funcion4_BestDeveloper, df_review_subset], axis=1)"
   ]
  },
  {
   "cell_type": "code",
   "execution_count": 37,
   "metadata": {},
   "outputs": [],
   "source": [
    "BestDeveloper.to_csv('BestDeveloper_funcion4.csv', index=False)"
   ]
  },
  {
   "cell_type": "code",
   "execution_count": 38,
   "metadata": {},
   "outputs": [],
   "source": [
    "# Selecciona las columnas 'title' y 'release_date' del DataFrame df_games\n",
    "df_funcion5_SentimentAnalysis = df_games[['developer','release_date']]\n",
    "\n",
    "# Selecciona la columna 'recommend', 'user_id' del DataFrame df_review\n",
    "df_review_subset = df_review[['sentiment_analysis','user_id']]\n",
    "\n",
    "# Combina las columnas seleccionadas en un nuevo DataFrame\n",
    "SentimentAnalysis = pd.concat([df_funcion5_SentimentAnalysis, df_review_subset], axis=1)"
   ]
  },
  {
   "cell_type": "code",
   "execution_count": 39,
   "metadata": {},
   "outputs": [],
   "source": [
    "SentimentAnalysis.to_csv('sentiment_analysis_funcion.csv', index=False)"
   ]
  }
 ],
 "metadata": {
  "kernelspec": {
   "display_name": "Python 3",
   "language": "python",
   "name": "python3"
  },
  "language_info": {
   "codemirror_mode": {
    "name": "ipython",
    "version": 3
   },
   "file_extension": ".py",
   "mimetype": "text/x-python",
   "name": "python",
   "nbconvert_exporter": "python",
   "pygments_lexer": "ipython3",
   "version": "3.12.0"
  }
 },
 "nbformat": 4,
 "nbformat_minor": 2
}
